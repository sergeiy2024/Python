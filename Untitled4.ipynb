{
 "cells": [
  {
   "cell_type": "markdown",
   "id": "c6e7d0b2-f9b5-4e5e-a881-1197e8cd5a3e",
   "metadata": {},
   "source": [
    "Домашнее задание. Тема 3. Функции и области видимости"
   ]
  },
  {
   "cell_type": "markdown",
   "id": "3f406754-5f9e-4cc0-8d7c-8224b873defb",
   "metadata": {},
   "source": [
    "Задание 1"
   ]
  },
  {
   "cell_type": "code",
   "execution_count": null,
   "id": "92d805f3-11e5-45e8-adec-a60992d362c1",
   "metadata": {},
   "outputs": [],
   "source": [
    "\n",
    "def sum_distance(f=0, t=0):\n",
    "    \"\"\"\n",
    "    Эта функция ссумирует все числа от значения from до величины to включительно/\n",
    "    Если пользователь задаст первое число, которое окажется больше второго, числа меняются местами.\n",
    "    \"\"\"\n",
    "    if f == 0 and t == 0:\n",
    "      f = int(input('Введите число from'))\n",
    "      t = int(input('Введите число to'))\n",
    "    if f > t:\n",
    "      f1 = t\n",
    "      t1 = f+1\n",
    "    else: \n",
    "      f1 = f\n",
    "      t1 = t+1\n",
    "    result = 0\n",
    "    for i in range(f1, t1):\n",
    "      result = result + i\n",
    "    return result\n",
    "    \n",
    "sum_distance()    "
   ]
  },
  {
   "cell_type": "markdown",
   "id": "2145ba9b-bf9e-4569-8382-cb703f004794",
   "metadata": {},
   "source": [
    "Задание 2"
   ]
  },
  {
   "cell_type": "code",
   "execution_count": 69,
   "id": "96d6f945-7bfb-4f5e-9a48-413f67cc4d2b",
   "metadata": {},
   "outputs": [
    {
     "data": {
      "text/plain": [
       "'3434'"
      ]
     },
     "execution_count": 69,
     "metadata": {},
     "output_type": "execute_result"
    }
   ],
   "source": [
    "def trim_and_repeat(line, offset=0, repetitions=1):\n",
    "    result = line[offset:len(line)]*repetitions\n",
    "    return result\n",
    "\n",
    "trim_and_repeat('1234',2, 2)"
   ]
  },
  {
   "cell_type": "code",
   "execution_count": null,
   "id": "2529d041-e28c-41d4-a5da-1e5b324a496b",
   "metadata": {},
   "outputs": [],
   "source": []
  }
 ],
 "metadata": {
  "kernelspec": {
   "display_name": "Python 3 (ipykernel)",
   "language": "python",
   "name": "python3"
  },
  "language_info": {
   "codemirror_mode": {
    "name": "ipython",
    "version": 3
   },
   "file_extension": ".py",
   "mimetype": "text/x-python",
   "name": "python",
   "nbconvert_exporter": "python",
   "pygments_lexer": "ipython3",
   "version": "3.12.7"
  }
 },
 "nbformat": 4,
 "nbformat_minor": 5
}
