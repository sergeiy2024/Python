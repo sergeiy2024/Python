{
 "cells": [
  {
   "cell_type": "markdown",
   "id": "8185e208-7508-499f-9226-c7d379f39365",
   "metadata": {},
   "source": [
    "Задание 1"
   ]
  },
  {
   "cell_type": "code",
   "execution_count": 130,
   "id": "efa48d97-7e4c-4b67-a9dd-ba2dd131809c",
   "metadata": {},
   "outputs": [
    {
     "name": "stdout",
     "output_type": "stream",
     "text": [
      "es\n",
      "t\n"
     ]
    }
   ],
   "source": [
    "word = ['test','testing']\n",
    "for x in word:\n",
    "    a = int((len(x)-1)/2)\n",
    "    if len(x) % 2 == 0:\n",
    "      print(x[a:a+2])\n",
    "    else:\n",
    "      print(x[a])"
   ]
  },
  {
   "cell_type": "markdown",
   "id": "f6756c33-1bd8-4476-a9c7-b943d6a6a92d",
   "metadata": {},
   "source": [
    "Задание 2"
   ]
  },
  {
   "cell_type": "code",
   "execution_count": 131,
   "id": "9c8669d4-31d3-4d97-99b9-8fec792328fd",
   "metadata": {},
   "outputs": [
    {
     "name": "stdout",
     "output_type": "stream",
     "text": [
      "Alex и Emma\n",
      "Arthur и Kate\n",
      "John и Kira\n",
      "Peter и Liza\n",
      "Richard и Trisha\n"
     ]
    }
   ],
   "source": [
    "boys = ['Peter', 'Alex', 'John', 'Arthur', 'Richard']\n",
    "girls = ['Kate', 'Liza', 'Kira', 'Emma', 'Trisha']\n",
    "boys = sorted(boys)\n",
    "girls = sorted(girls)\n",
    "for x in boys: \n",
    " print (x +' и ' + girls [boys.index(x)])\n"
   ]
  },
  {
   "cell_type": "code",
   "execution_count": 132,
   "id": "2a1329bc-56cc-4a04-9e47-03c76afb6bea",
   "metadata": {},
   "outputs": [
    {
     "name": "stdout",
     "output_type": "stream",
     "text": [
      "Alex и Emma\n",
      "Arthur и Kate\n",
      "John и Kira\n",
      "Michael и Liza\n",
      "Peter и Trisha\n",
      "Richard\n"
     ]
    }
   ],
   "source": [
    "boys =  ['Peter', 'Alex', 'John', 'Arthur', 'Richard', 'Michael']\n",
    "girls = ['Kate', 'Liza', 'Kira', 'Emma', 'Trisha']\n",
    "boys = sorted(boys)\n",
    "girls = sorted(girls)\n",
    "for x in boys: \n",
    "    if boys.index(x) < len(girls):\n",
    "     print (x +' и ' + girls [boys.index(x)])\n",
    "    else: \n",
    "      print (x)\n"
   ]
  },
  {
   "cell_type": "code",
   "execution_count": null,
   "id": "5e021ff6-5d64-49f9-81cb-605da984ffe6",
   "metadata": {},
   "outputs": [],
   "source": []
  }
 ],
 "metadata": {
  "kernelspec": {
   "display_name": "Python 3 (ipykernel)",
   "language": "python",
   "name": "python3"
  },
  "language_info": {
   "codemirror_mode": {
    "name": "ipython",
    "version": 3
   },
   "file_extension": ".py",
   "mimetype": "text/x-python",
   "name": "python",
   "nbconvert_exporter": "python",
   "pygments_lexer": "ipython3",
   "version": "3.12.7"
  }
 },
 "nbformat": 4,
 "nbformat_minor": 5
}
