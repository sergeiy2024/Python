{
 "cells": [
  {
   "cell_type": "markdown",
   "id": "4b4f5bea-5985-4ae9-99a5-fbdcd913bd8b",
   "metadata": {},
   "source": [
    "Тема 4. Работа с файлами и пакетами"
   ]
  },
  {
   "cell_type": "markdown",
   "id": "d58d0854-714e-45ed-bc5a-ce7d26f94ff3",
   "metadata": {},
   "source": [
    "Задание 1"
   ]
  },
  {
   "cell_type": "code",
   "execution_count": 152,
   "id": "03768387-da84-444a-9462-2a7803a9224d",
   "metadata": {},
   "outputs": [
    {
     "name": "stdout",
     "output_type": "stream",
     "text": [
      "1840e0b9d4   Продукты\n",
      "4e4f90fcfb   Электроника\n"
     ]
    }
   ],
   "source": [
    "i = 0\n",
    "with open('purchase_log.txt', 'r', encoding='utf-8') as f:\n",
    "    for line in f:\n",
    "        purchases = json.loads(line)\n",
    "        if purchases.get('user_id') != 'user_id':\n",
    "            print(purchases.get('user_id'), ' ', purchases.get('category'))\n",
    "        \n",
    "        i += 1\n",
    "        if i >= 3:\n",
    "            break"
   ]
  },
  {
   "cell_type": "markdown",
   "id": "4ecbc765-97d8-43f3-a63e-2a186b278f93",
   "metadata": {},
   "source": [
    "Задание 2"
   ]
  },
  {
   "cell_type": "code",
   "execution_count": null,
   "id": "6d00d305-68db-43f6-8fe5-07257d7b98bb",
   "metadata": {},
   "outputs": [],
   "source": [
    "В связи с тем, что задание является необязательным к выполнение, задание не выполнялось"
   ]
  }
 ],
 "metadata": {
  "kernelspec": {
   "display_name": "Python 3 (ipykernel)",
   "language": "python",
   "name": "python3"
  },
  "language_info": {
   "codemirror_mode": {
    "name": "ipython",
    "version": 3
   },
   "file_extension": ".py",
   "mimetype": "text/x-python",
   "name": "python",
   "nbconvert_exporter": "python",
   "pygments_lexer": "ipython3",
   "version": "3.12.7"
  }
 },
 "nbformat": 4,
 "nbformat_minor": 5
}
