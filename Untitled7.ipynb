{
 "cells": [
  {
   "cell_type": "markdown",
   "id": "5e91e225-ca9b-423b-a48c-123772253f2a",
   "metadata": {},
   "source": [
    "Тема 6"
   ]
  },
  {
   "cell_type": "code",
   "execution_count": 2,
   "id": "32a1b4c6-b589-49ef-811e-b4c659d1a8f9",
   "metadata": {},
   "outputs": [],
   "source": [
    "from datetime import datetime\n",
    "\n",
    "class Account:\n",
    "    def __init__(self, name, initial_balance=0):\n",
    "        self.name = name\n",
    "        self.balance = initial_balance\n",
    "        self.history_operations = [] \n",
    "\n",
    "    def deposit_money(self, amount):\n",
    "        \"\"\"\n",
    "        Метод, позволяющий положить деньги на счет.\n",
    "        \"\"\"\n",
    "        if amount > 0:\n",
    "            self.balance += amount\n",
    "            self.add_history_operations(\"deposit\", amount) \n",
    "            print(f\"Внесено {amount}. Новый баланс: {self.balance}\")\n",
    "        else:\n",
    "            print(\"Сумма для пополнения должна быть положительной.\")\n",
    "\n",
    "    def withdraw_money(self, amount):\n",
    "        \"\"\"\n",
    "        Метод, позволяющий снять деньги со счета.\n",
    "        \"\"\"\n",
    "        if amount > 0 and self.balance >= amount:\n",
    "            self.balance -= amount\n",
    "            self.add_history_operations(\"withdraw\", amount) \n",
    "            print(f\"Снято {amount}. Новый баланс: {self.balance}\")\n",
    "        elif amount <= 0:\n",
    "             print(\"Сумма для снятия должна быть положительной.\")\n",
    "        else:\n",
    "            print(\"Недостаточно средств на счете.\")\n",
    "\n",
    "    def add_history_operations(self, type, amount):\n",
    "      \"\"\"\n",
    "      Метод для хранения истории поступления и снятия денег со счета.\n",
    "      \"\"\"\n",
    "      operations = {\n",
    "            \"type\": type,\n",
    "            \"amount\": amount,\n",
    "            \"timestamp\": datetime.now().strftime(\"%Y-%m-%d %H:%M:%S\") \n",
    "      }\n",
    "      self.history_operations.append(operations)\n",
    "\n",
    "\n",
    "    def print_history_operations(self):\n",
    "      \"\"\"\n",
    "      Метод для вывода истории транзакций.\n",
    "      \"\"\"\n",
    "      if not self.history_operations:\n",
    "        print(\"История транзакций пуста.\")\n",
    "        return\n",
    "\n",
    "      print(\"История транзакций:\")\n",
    "      for operations in self.history_operations:\n",
    "        print(f\"  {operations['timestamp']} - {operations['type']}: {operations['amount']}\")\n",
    "\n"
   ]
  },
  {
   "cell_type": "code",
   "execution_count": 3,
   "id": "c0009eb2-ada5-468a-a982-089c56a8a9ac",
   "metadata": {},
   "outputs": [
    {
     "name": "stdout",
     "output_type": "stream",
     "text": [
      "Аккаунт создан для Иван, начальный баланс: 300\n"
     ]
    }
   ],
   "source": [
    "    account1 = Account(\"Иван\", 300)\n",
    "    print(f\"Аккаунт создан для {account1.name}, начальный баланс: {account1.balance}\")\n"
   ]
  },
  {
   "cell_type": "code",
   "execution_count": 5,
   "id": "86e685f8-f2ef-47ff-a9b8-33a7964e1034",
   "metadata": {},
   "outputs": [
    {
     "name": "stdout",
     "output_type": "stream",
     "text": [
      "Внесено 300. Новый баланс: 600\n"
     ]
    }
   ],
   "source": [
    "account1.deposit_money(300)\n",
    " "
   ]
  },
  {
   "cell_type": "code",
   "execution_count": 6,
   "id": "772aecf7-a8c8-46ec-8a5f-4411c36434a1",
   "metadata": {},
   "outputs": [
    {
     "name": "stdout",
     "output_type": "stream",
     "text": [
      "Снято 100. Новый баланс: 500\n"
     ]
    }
   ],
   "source": [
    "account1.withdraw_money(100)\n"
   ]
  },
  {
   "cell_type": "code",
   "execution_count": 7,
   "id": "dc69aa9b-4e94-4213-b516-912b5f387d79",
   "metadata": {},
   "outputs": [
    {
     "name": "stdout",
     "output_type": "stream",
     "text": [
      "Недостаточно средств на счете.\n"
     ]
    }
   ],
   "source": [
    "account1.withdraw_money(2000)\n",
    "   "
   ]
  },
  {
   "cell_type": "code",
   "execution_count": 8,
   "id": "656215f1-191f-46a2-b2d4-2bf8e0159872",
   "metadata": {},
   "outputs": [
    {
     "name": "stdout",
     "output_type": "stream",
     "text": [
      "История транзакций:\n",
      "  2024-12-26 13:15:35 - deposit: 300\n",
      "  2024-12-26 13:16:06 - withdraw: 100\n"
     ]
    }
   ],
   "source": [
    "account1.print_history_operations()"
   ]
  },
  {
   "cell_type": "code",
   "execution_count": null,
   "id": "1f5eac5e-22e1-450f-9fa7-51363664301f",
   "metadata": {},
   "outputs": [],
   "source": []
  }
 ],
 "metadata": {
  "kernelspec": {
   "display_name": "Python 3 (ipykernel)",
   "language": "python",
   "name": "python3"
  },
  "language_info": {
   "codemirror_mode": {
    "name": "ipython",
    "version": 3
   },
   "file_extension": ".py",
   "mimetype": "text/x-python",
   "name": "python",
   "nbconvert_exporter": "python",
   "pygments_lexer": "ipython3",
   "version": "3.12.7"
  }
 },
 "nbformat": 4,
 "nbformat_minor": 5
}
