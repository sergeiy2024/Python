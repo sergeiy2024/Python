{
 "cells": [
  {
   "cell_type": "markdown",
   "id": "b98c3065-e135-4b2a-8f3e-b7b8f4e355fd",
   "metadata": {},
   "source": [
    "Задание 1"
   ]
  },
  {
   "cell_type": "code",
   "execution_count": 40,
   "id": "c7acd23f-d437-487b-a915-5ed03bc79337",
   "metadata": {},
   "outputs": [],
   "source": [
    "ids = {'user1': [213, 213, 213, 15, 213],\n",
    "'user2': [54, 54, 119, 119, 119],\n",
    "'user3': [213, 98, 98, 35]}\n"
   ]
  },
  {
   "cell_type": "code",
   "execution_count": 50,
   "id": "45930340-7e93-4315-9698-4d98640ba5ae",
   "metadata": {},
   "outputs": [
    {
     "name": "stdout",
     "output_type": "stream",
     "text": [
      "{98, 35, 15, 213, 54, 119}\n"
     ]
    }
   ],
   "source": [
    "User_1 = list(set(ids['user1']))\n",
    "User_2 = list(set(ids['user2']))\n",
    "User_3 = list(set(ids['user3']))\n",
    "print(set(User_3 + User_1 + User_2))"
   ]
  },
  {
   "cell_type": "markdown",
   "id": "8cab6e58-303b-4ab6-b78f-5f842927e929",
   "metadata": {},
   "source": [
    "Задание 2"
   ]
  },
  {
   "cell_type": "code",
   "execution_count": 95,
   "id": "cf0f67fe-c8a4-4694-95c2-88d892750a9b",
   "metadata": {},
   "outputs": [
    {
     "name": "stdout",
     "output_type": "stream",
     "text": [
      "Поисковых запросов, содержащих 2 слов(а): 42.86%\n",
      "Поисковых запросов, содержащих 3 слов(а): 57.14%\n"
     ]
    }
   ],
   "source": [
    "queries = [\n",
    "'смотреть сериалы онлайн',\n",
    "'новости спорта',\n",
    "'афиша кино',\n",
    "'курс доллара',\n",
    "'сериалы этим летом',\n",
    "'курс по питону',\n",
    "'сериалы про спорт'\n",
    "]\n",
    "x = []\n",
    "for items in queries:\n",
    "  x.append(len(items.split(' ')))\n",
    "\n",
    "print(f\"Поисковых запросов, содержащих 2 слов(а): {round(x.count(2)*100/len(x),2)}%\")\n",
    "print(f\"Поисковых запросов, содержащих 3 слов(а): {round(x.count(3)*100/len(x),2)}%\")    \n"
   ]
  }
 ],
 "metadata": {
  "kernelspec": {
   "display_name": "Python 3 (ipykernel)",
   "language": "python",
   "name": "python3"
  },
  "language_info": {
   "codemirror_mode": {
    "name": "ipython",
    "version": 3
   },
   "file_extension": ".py",
   "mimetype": "text/x-python",
   "name": "python",
   "nbconvert_exporter": "python",
   "pygments_lexer": "ipython3",
   "version": "3.12.7"
  }
 },
 "nbformat": 4,
 "nbformat_minor": 5
}
