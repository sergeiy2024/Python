{
 "cells": [
  {
   "cell_type": "markdown",
   "id": "7bbf0f18-0e7d-4f87-bceb-516b51cd2ac0",
   "metadata": {},
   "source": [
    "Домашнее задание № 8 Работа с API"
   ]
  },
  {
   "cell_type": "markdown",
   "id": "3ac44dd5-2435-4de1-b440-68d9f27c709f",
   "metadata": {},
   "source": [
    "Задание 1. Получение данных из публичного API"
   ]
  },
  {
   "cell_type": "code",
   "execution_count": 2,
   "id": "13c30043-8229-42e2-b5ab-4ee4aae04a16",
   "metadata": {},
   "outputs": [
    {
     "name": "stdout",
     "output_type": "stream",
     "text": [
      "Заголовок 1: \"sunt aut facere repellat provident occaecati excepturi optio reprehenderit\". Тело: \"quia et suscipit\n",
      "suscipit recusandae consequuntur expedita et cum\n",
      "reprehenderit molestiae ut ut quas totam\n",
      "nostrum rerum est autem sunt rem eveniet architecto\".\n",
      "Заголовок 2: \"qui est esse\". Тело: \"est rerum tempore vitae\n",
      "sequi sint nihil reprehenderit dolor beatae ea dolores neque\n",
      "fugiat blanditiis voluptate porro vel nihil molestiae ut reiciendis\n",
      "qui aperiam non debitis possimus qui neque nisi nulla\".\n",
      "Заголовок 3: \"ea molestias quasi exercitationem repellat qui ipsa sit aut\". Тело: \"et iusto sed quo iure\n",
      "voluptatem occaecati omnis eligendi aut ad\n",
      "voluptatem doloribus vel accusantium quis pariatur\n",
      "molestiae porro eius odio et labore et velit aut\".\n",
      "Заголовок 4: \"eum et est occaecati\". Тело: \"ullam et saepe reiciendis voluptatem adipisci\n",
      "sit amet autem assumenda provident rerum culpa\n",
      "quis hic commodi nesciunt rem tenetur doloremque ipsam iure\n",
      "quis sunt voluptatem rerum illo velit\".\n",
      "Заголовок 5: \"nesciunt quas odio\". Тело: \"repudiandae veniam quaerat sunt sed\n",
      "alias aut fugiat sit autem sed est\n",
      "voluptatem omnis possimus esse voluptatibus quis\n",
      "est aut tenetur dolor neque\".\n"
     ]
    }
   ],
   "source": [
    "import requests\n",
    "\n",
    "url= (f'https://jsonplaceholder.typicode.com/posts')\n",
    "x = 0\n",
    "try:\n",
    "    response = requests.get(url)\n",
    "    if response.status_code == 200:\n",
    "         data = response.json()  # Получаем данные в формате JSON\n",
    "       \n",
    "         while x < 5:\n",
    "             print(f'Заголовок {x+1}: \"{data[x]['title']}\". Тело: \"{data[x]['body']}\".')\n",
    "             x = x+1\n",
    "         \n",
    "        \n",
    "    \n",
    "    else:\n",
    "         print(f'Ошибка: {response.status_code}')\n",
    "\n",
    "except: print('Ошибка на сервере')"
   ]
  },
  {
   "cell_type": "markdown",
   "id": "e05abccd-ce1d-4254-bb13-2255f38bd6ef",
   "metadata": {},
   "source": []
  },
  {
   "cell_type": "code",
   "execution_count": 4,
   "id": "fe7a497a-69ca-4dd9-bff1-a26aac4fc279",
   "metadata": {
    "scrolled": true
   },
   "outputs": [
    {
     "name": "stdin",
     "output_type": "stream",
     "text": [
      "Ведите город: Москва\n"
     ]
    },
    {
     "name": "stdout",
     "output_type": "stream",
     "text": [
      "Сейчас в городе Москва температура: -0.22 С, переменная облачность\n"
     ]
    }
   ],
   "source": [
    "import requests\n",
    "city = input('Ведите город:')\n",
    "\n",
    "url_geocoding = (f'http://api.openweathermap.org/geo/1.0/direct'\n",
    "      f'?q={city}'\n",
    "      f'&limit=1'\n",
    "      f'&appid=dadd9c0e1e38750664e55e11062bff97'\n",
    ")\n",
    "response_geocoding = requests.get(url_geocoding)\n",
    "try:\n",
    " if response_geocoding.status_code == 200:\n",
    "    data_geocoding = response_geocoding.json()  # Получаем данные в формате JSON\n",
    "    Lat = data_geocoding[0]['lat']\n",
    "    Lon = data_geocoding[0]['lon']\n",
    "    url = (f'https://api.openweathermap.org/data/2.5/weather'\n",
    "          f'?lat={Lat}'\n",
    "          f'&lon={Lon}'\n",
    "          f'&units=metric'\n",
    "          f'&lang=ru'\n",
    "          f'&appid=dadd9c0e1e38750664e55e11062bff97')\n",
    "    response = requests.get(url)\n",
    "    if response.status_code == 200:\n",
    "         data = response.json()  # Получаем данные в формате JSON\n",
    "         print(f'Сейчас в городе {city} температура: {data['main']['temp']} С, {data['weather'][0]['description']}')\n",
    "    else:\n",
    "         print(f'Ошибка: {response.status_code}')\n",
    " else:\n",
    "    print(f'Ошибка: {response_geocoding.status_code}')\n",
    "except: print('Ошибка на сервере')"
   ]
  },
  {
   "cell_type": "code",
   "execution_count": null,
   "id": "bf1a24db-f961-4e71-89ae-44ed02d3882a",
   "metadata": {},
   "outputs": [],
   "source": []
  }
 ],
 "metadata": {
  "kernelspec": {
   "display_name": "Python 3 (ipykernel)",
   "language": "python",
   "name": "python3"
  },
  "language_info": {
   "codemirror_mode": {
    "name": "ipython",
    "version": 3
   },
   "file_extension": ".py",
   "mimetype": "text/x-python",
   "name": "python",
   "nbconvert_exporter": "python",
   "pygments_lexer": "ipython3",
   "version": "3.12.7"
  }
 },
 "nbformat": 4,
 "nbformat_minor": 5
}
