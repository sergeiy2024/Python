{
 "cells": [
  {
   "cell_type": "markdown",
   "id": "8845ac74-b55a-4391-91ea-d871a37a7d7e",
   "metadata": {},
   "source": [
    "Тема 5. Время и даты в Python"
   ]
  },
  {
   "cell_type": "markdown",
   "id": "82c23240-2d14-44f3-b8cb-23f02e815472",
   "metadata": {},
   "source": [
    "Задание 1 "
   ]
  },
  {
   "cell_type": "code",
   "execution_count": 43,
   "id": "c10e28f7-4d87-4b3c-b465-9ef4ea21d276",
   "metadata": {},
   "outputs": [
    {
     "name": "stdout",
     "output_type": "stream",
     "text": [
      "2002-10-02 00:00:00\n",
      "2013-10-11 00:00:00\n",
      "1977-08-18 00:00:00\n"
     ]
    }
   ],
   "source": [
    "import datetime \n",
    "newspapers = {\n",
    "    'The Moscow Times': 'Wednesday, October 2, 2002', \n",
    "    'The Guardian': 'Friday, 11.10.13', \n",
    "    'Daily News': 'Thursday, 18 August 1977'}\n",
    "\n",
    "for newspaper in newspapers:\n",
    "    if newspaper == 'The Moscow Times':\n",
    "        date_object = datetime.datetime.strptime(newspapers.get(newspaper), '%A, %B %d, %Y')\n",
    "        print(date_object)\n",
    "    elif newspaper == 'The Guardian':\n",
    "         date_object = datetime.datetime.strptime(newspapers.get(newspaper), '%A, %d.%m.%y')\n",
    "         print(date_object)\n",
    "    elif newspaper == 'Daily News':\n",
    "         date_object = datetime.datetime.strptime(newspapers.get(newspaper), '%A, %d %B %Y')\n",
    "         print(date_object)\n",
    "     \n",
    " \n"
   ]
  },
  {
   "cell_type": "markdown",
   "id": "b933bc25-1e21-4706-9bad-80a0d03fa9d3",
   "metadata": {},
   "source": [
    "Задание 2"
   ]
  },
  {
   "cell_type": "code",
   "execution_count": 78,
   "id": "866f08b8-abe1-49ec-bf85-164e373c9f73",
   "metadata": {},
   "outputs": [
    {
     "data": {
      "text/plain": [
       "['2022-01-01', '2022-01-02', '2022-01-03']"
      ]
     },
     "execution_count": 78,
     "metadata": {},
     "output_type": "execute_result"
    }
   ],
   "source": [
    "\n",
    "def date_range(start_date, end_date):\n",
    " import datetime \n",
    " list = []\n",
    " try:\n",
    "     start_date_dt = datetime.datetime.strptime(start_date, '%Y-%m-%d')\n",
    "     end_date_dt =   datetime.datetime.strptime(end_date, '%Y-%m-%d') \n",
    " except:\n",
    "        return list\n",
    "\n",
    " while start_date_dt <= end_date_dt:\n",
    "     list.append(start_date_dt.strftime('%Y-%m-%d'))\n",
    "     start_date_dt += datetime.timedelta(days=1)\n",
    "     \n",
    " return list\n",
    "\n",
    "start_date = '2022-01-01'\n",
    "end_date = '2022-01-03'\n",
    "date_range(start_date, end_date)"
   ]
  },
  {
   "cell_type": "code",
   "execution_count": null,
   "id": "7005467e-df84-403f-815b-7049accb2a8f",
   "metadata": {},
   "outputs": [],
   "source": []
  }
 ],
 "metadata": {
  "kernelspec": {
   "display_name": "Python 3 (ipykernel)",
   "language": "python",
   "name": "python3"
  },
  "language_info": {
   "codemirror_mode": {
    "name": "ipython",
    "version": 3
   },
   "file_extension": ".py",
   "mimetype": "text/x-python",
   "name": "python",
   "nbconvert_exporter": "python",
   "pygments_lexer": "ipython3",
   "version": "3.12.7"
  }
 },
 "nbformat": 4,
 "nbformat_minor": 5
}
